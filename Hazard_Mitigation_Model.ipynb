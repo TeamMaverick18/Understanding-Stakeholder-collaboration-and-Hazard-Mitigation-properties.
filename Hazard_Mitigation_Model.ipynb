{
  "nbformat": 4,
  "nbformat_minor": 0,
  "metadata": {
    "colab": {
      "name": "Hazard Mitigation Model.ipynb",
      "provenance": []
    },
    "kernelspec": {
      "name": "python3",
      "display_name": "Python 3"
    }
  },
  "cells": [
    {
      "cell_type": "code",
      "metadata": {
        "id": "J4UZe0-61Bx-"
      },
      "source": [
        "import pandas as pd\n",
        "import matplotlib.pyplot as plt\n",
        "import seaborn as sns\n",
        "import numpy as np"
      ],
      "execution_count": null,
      "outputs": []
    },
    {
      "cell_type": "code",
      "metadata": {
        "id": "aJhrKE4h1IB6"
      },
      "source": [
        "#loading the preprocessed dataset\n",
        "df=pd.read_csv('/content/drive/MyDrive/hazard/modelDataset.csv')"
      ],
      "execution_count": null,
      "outputs": []
    },
    {
      "cell_type": "code",
      "metadata": {
        "colab": {
          "base_uri": "https://localhost:8080/"
        },
        "id": "BWSUnykm1N9e",
        "outputId": "3a816cec-9ca3-4332-fe48-3fe02995e5b6"
      },
      "source": [
        "df.isnull().sum()"
      ],
      "execution_count": null,
      "outputs": [
        {
          "output_type": "execute_result",
          "data": {
            "text/plain": [
              "Unnamed: 0                       0\n",
              "Unnamed: 0.1                     0\n",
              "disasterNumber                4832\n",
              "region                          23\n",
              "stateNumberCode                 23\n",
              "state                           23\n",
              "countyCode                    1055\n",
              "county                        1055\n",
              "city                             2\n",
              "zip                              8\n",
              "propertyAction                   0\n",
              "structureType                    0\n",
              "typeOfResidency                  0\n",
              "actualAmountPaid             21428\n",
              "programFy                        0\n",
              "status                           0\n",
              "programArea                      0\n",
              "type                             0\n",
              "numberOfProperties               0\n",
              "granteeTribalIndicator           0\n",
              "subgranteeTribalIndicator        0\n",
              "dtype: int64"
            ]
          },
          "metadata": {
            "tags": []
          },
          "execution_count": 4
        }
      ]
    },
    {
      "cell_type": "code",
      "metadata": {
        "id": "1UUP_P7z1ih1"
      },
      "source": [
        "# We are dropping location as we tested and location is not adding any useful insight\n",
        "df.drop(columns=['Unnamed: 0','Unnamed: 0.1','region','stateNumberCode','state','countyCode','county','city','zip'],inplace=True)"
      ],
      "execution_count": null,
      "outputs": []
    },
    {
      "cell_type": "code",
      "metadata": {
        "id": "YuhSkSb3157Q"
      },
      "source": [
        "#convertig disaster number to is agency handled or not\n",
        "df.loc[pd.notnull(df['disasterNumber']),'disasterNumber']=1\n",
        "df.loc[pd.isnull(df['disasterNumber']),'disasterNumber']=0"
      ],
      "execution_count": null,
      "outputs": []
    },
    {
      "cell_type": "code",
      "metadata": {
        "id": "mhXsz7uvlCsm"
      },
      "source": [
        "df.rename(columns={'disasterNumber':'IsAgencyHandling'},inplace=True)"
      ],
      "execution_count": null,
      "outputs": []
    },
    {
      "cell_type": "code",
      "metadata": {
        "colab": {
          "base_uri": "https://localhost:8080/",
          "height": 377
        },
        "id": "-gprG4_PlPYK",
        "outputId": "caf31986-bc23-4834-f551-0bcbba875248"
      },
      "source": [
        "df.head()"
      ],
      "execution_count": null,
      "outputs": [
        {
          "output_type": "execute_result",
          "data": {
            "text/html": [
              "<div>\n",
              "<style scoped>\n",
              "    .dataframe tbody tr th:only-of-type {\n",
              "        vertical-align: middle;\n",
              "    }\n",
              "\n",
              "    .dataframe tbody tr th {\n",
              "        vertical-align: top;\n",
              "    }\n",
              "\n",
              "    .dataframe thead th {\n",
              "        text-align: right;\n",
              "    }\n",
              "</style>\n",
              "<table border=\"1\" class=\"dataframe\">\n",
              "  <thead>\n",
              "    <tr style=\"text-align: right;\">\n",
              "      <th></th>\n",
              "      <th>IsAgencyHandling</th>\n",
              "      <th>propertyAction</th>\n",
              "      <th>structureType</th>\n",
              "      <th>typeOfResidency</th>\n",
              "      <th>actualAmountPaid</th>\n",
              "      <th>programFy</th>\n",
              "      <th>status</th>\n",
              "      <th>programArea</th>\n",
              "      <th>type</th>\n",
              "      <th>numberOfProperties</th>\n",
              "      <th>granteeTribalIndicator</th>\n",
              "      <th>subgranteeTribalIndicator</th>\n",
              "    </tr>\n",
              "  </thead>\n",
              "  <tbody>\n",
              "    <tr>\n",
              "      <th>0</th>\n",
              "      <td>1.0</td>\n",
              "      <td>Safe Room/Wind Shelter</td>\n",
              "      <td>Single Family</td>\n",
              "      <td>Owner Occupied - Principal Residence</td>\n",
              "      <td>1362.0</td>\n",
              "      <td>1999</td>\n",
              "      <td>Closed</td>\n",
              "      <td>HMGP</td>\n",
              "      <td>206.1: Safe Room (Tornado and Severe Wind Shel...</td>\n",
              "      <td>2</td>\n",
              "      <td>No</td>\n",
              "      <td>No</td>\n",
              "    </tr>\n",
              "    <tr>\n",
              "      <th>1</th>\n",
              "      <td>1.0</td>\n",
              "      <td>Safe Room/Wind Shelter</td>\n",
              "      <td>Single Family</td>\n",
              "      <td>Owner Occupied - Principal Residence</td>\n",
              "      <td>NaN</td>\n",
              "      <td>2001</td>\n",
              "      <td>Closed</td>\n",
              "      <td>HMGP</td>\n",
              "      <td>206.1: Safe Room (Tornado and Severe Wind Shel...</td>\n",
              "      <td>1</td>\n",
              "      <td>No</td>\n",
              "      <td>No</td>\n",
              "    </tr>\n",
              "    <tr>\n",
              "      <th>2</th>\n",
              "      <td>1.0</td>\n",
              "      <td>Acquisition/Relocation</td>\n",
              "      <td>Manufactured Home</td>\n",
              "      <td>Rental</td>\n",
              "      <td>2846.0</td>\n",
              "      <td>1999</td>\n",
              "      <td>Closed</td>\n",
              "      <td>HMGP</td>\n",
              "      <td>200.1: Acquisition of Private Real Property (S...</td>\n",
              "      <td>5</td>\n",
              "      <td>No</td>\n",
              "      <td>No</td>\n",
              "    </tr>\n",
              "    <tr>\n",
              "      <th>3</th>\n",
              "      <td>1.0</td>\n",
              "      <td>Seismic Retrofit</td>\n",
              "      <td>Other (Specify in Comments)</td>\n",
              "      <td>Other (Specify in Comments)</td>\n",
              "      <td>NaN</td>\n",
              "      <td>2001</td>\n",
              "      <td>Closed</td>\n",
              "      <td>HMGP</td>\n",
              "      <td>205.4: Non Structural Retrofitting/Rehabilitat...</td>\n",
              "      <td>2</td>\n",
              "      <td>No</td>\n",
              "      <td>No</td>\n",
              "    </tr>\n",
              "    <tr>\n",
              "      <th>4</th>\n",
              "      <td>1.0</td>\n",
              "      <td>Safe Room/Wind Shelter</td>\n",
              "      <td>Single Family</td>\n",
              "      <td>Owner Occupied - Principal Residence</td>\n",
              "      <td>NaN</td>\n",
              "      <td>1999</td>\n",
              "      <td>Approved</td>\n",
              "      <td>HMGP</td>\n",
              "      <td>206.1: Safe Room (Tornado and Severe Wind Shel...</td>\n",
              "      <td>42</td>\n",
              "      <td>No</td>\n",
              "      <td>No</td>\n",
              "    </tr>\n",
              "  </tbody>\n",
              "</table>\n",
              "</div>"
            ],
            "text/plain": [
              "   IsAgencyHandling  ... subgranteeTribalIndicator\n",
              "0               1.0  ...                        No\n",
              "1               1.0  ...                        No\n",
              "2               1.0  ...                        No\n",
              "3               1.0  ...                        No\n",
              "4               1.0  ...                        No\n",
              "\n",
              "[5 rows x 12 columns]"
            ]
          },
          "metadata": {
            "tags": []
          },
          "execution_count": 8
        }
      ]
    },
    {
      "cell_type": "code",
      "metadata": {
        "id": "vBAAmReC2bIG"
      },
      "source": [
        "#Convert a same vale in different columns to different values\n",
        "property_action_lst=df['propertyAction'].unique()"
      ],
      "execution_count": null,
      "outputs": []
    },
    {
      "cell_type": "code",
      "metadata": {
        "id": "EBmPfFFh2vg3"
      },
      "source": [
        "structure_lst=df['structureType'].unique()"
      ],
      "execution_count": null,
      "outputs": []
    },
    {
      "cell_type": "code",
      "metadata": {
        "id": "0rKou1az2y2m"
      },
      "source": [
        "typeofres_lst=df['typeOfResidency'].unique()"
      ],
      "execution_count": null,
      "outputs": []
    },
    {
      "cell_type": "code",
      "metadata": {
        "colab": {
          "base_uri": "https://localhost:8080/"
        },
        "id": "Kj9RzYKd3Ids",
        "outputId": "b8ad327d-1d0b-417a-e8ea-860954fc3e32"
      },
      "source": [
        "set(property_action_lst).intersection(set(structure_lst))"
      ],
      "execution_count": null,
      "outputs": [
        {
          "output_type": "execute_result",
          "data": {
            "text/plain": [
              "{'Other (Specify in Comments)'}"
            ]
          },
          "metadata": {
            "tags": []
          },
          "execution_count": 12
        }
      ]
    },
    {
      "cell_type": "code",
      "metadata": {
        "colab": {
          "base_uri": "https://localhost:8080/"
        },
        "id": "L2hBdX7H3OoQ",
        "outputId": "4f7344ac-0cc9-4e7c-86ac-be77bbf68575"
      },
      "source": [
        "set(property_action_lst).intersection(set(typeofres_lst))"
      ],
      "execution_count": null,
      "outputs": [
        {
          "output_type": "execute_result",
          "data": {
            "text/plain": [
              "{'Other (Specify in Comments)'}"
            ]
          },
          "metadata": {
            "tags": []
          },
          "execution_count": 13
        }
      ]
    },
    {
      "cell_type": "code",
      "metadata": {
        "colab": {
          "base_uri": "https://localhost:8080/"
        },
        "id": "tjIvCitG3Rgr",
        "outputId": "23bda32e-f17a-4b9f-b037-686b3b7b30a3"
      },
      "source": [
        "set(typeofres_lst).intersection(set(structure_lst))"
      ],
      "execution_count": null,
      "outputs": [
        {
          "output_type": "execute_result",
          "data": {
            "text/plain": [
              "{'Other (Specify in Comments)'}"
            ]
          },
          "metadata": {
            "tags": []
          },
          "execution_count": 14
        }
      ]
    },
    {
      "cell_type": "code",
      "metadata": {
        "id": "Qerfi8ZP3Vr2"
      },
      "source": [
        "df.loc[df['propertyAction']=='Other (Specify in Comments)','propertyAction']='Other (Specify in Comments)_PA'\n",
        "df.loc[df['structureType']=='Other (Specify in Comments)','structureType']='Other (Specify in Comments)_ST'\n",
        "df.loc[df['typeOfResidency']=='Other (Specify in Comments)','typeOfResidency']='Other (Specify in Comments)_TR'"
      ],
      "execution_count": null,
      "outputs": []
    },
    {
      "cell_type": "code",
      "metadata": {
        "colab": {
          "base_uri": "https://localhost:8080/",
          "height": 377
        },
        "id": "1hSfXIRm3pgf",
        "outputId": "ff0843dc-6a2d-4d1e-b091-13f3463642d5"
      },
      "source": [
        "df.head()"
      ],
      "execution_count": null,
      "outputs": [
        {
          "output_type": "execute_result",
          "data": {
            "text/html": [
              "<div>\n",
              "<style scoped>\n",
              "    .dataframe tbody tr th:only-of-type {\n",
              "        vertical-align: middle;\n",
              "    }\n",
              "\n",
              "    .dataframe tbody tr th {\n",
              "        vertical-align: top;\n",
              "    }\n",
              "\n",
              "    .dataframe thead th {\n",
              "        text-align: right;\n",
              "    }\n",
              "</style>\n",
              "<table border=\"1\" class=\"dataframe\">\n",
              "  <thead>\n",
              "    <tr style=\"text-align: right;\">\n",
              "      <th></th>\n",
              "      <th>IsAgencyHandling</th>\n",
              "      <th>propertyAction</th>\n",
              "      <th>structureType</th>\n",
              "      <th>typeOfResidency</th>\n",
              "      <th>actualAmountPaid</th>\n",
              "      <th>programFy</th>\n",
              "      <th>status</th>\n",
              "      <th>programArea</th>\n",
              "      <th>type</th>\n",
              "      <th>numberOfProperties</th>\n",
              "      <th>granteeTribalIndicator</th>\n",
              "      <th>subgranteeTribalIndicator</th>\n",
              "    </tr>\n",
              "  </thead>\n",
              "  <tbody>\n",
              "    <tr>\n",
              "      <th>0</th>\n",
              "      <td>1.0</td>\n",
              "      <td>Safe Room/Wind Shelter</td>\n",
              "      <td>Single Family</td>\n",
              "      <td>Owner Occupied - Principal Residence</td>\n",
              "      <td>1362.0</td>\n",
              "      <td>1999</td>\n",
              "      <td>Closed</td>\n",
              "      <td>HMGP</td>\n",
              "      <td>206.1: Safe Room (Tornado and Severe Wind Shel...</td>\n",
              "      <td>2</td>\n",
              "      <td>No</td>\n",
              "      <td>No</td>\n",
              "    </tr>\n",
              "    <tr>\n",
              "      <th>1</th>\n",
              "      <td>1.0</td>\n",
              "      <td>Safe Room/Wind Shelter</td>\n",
              "      <td>Single Family</td>\n",
              "      <td>Owner Occupied - Principal Residence</td>\n",
              "      <td>NaN</td>\n",
              "      <td>2001</td>\n",
              "      <td>Closed</td>\n",
              "      <td>HMGP</td>\n",
              "      <td>206.1: Safe Room (Tornado and Severe Wind Shel...</td>\n",
              "      <td>1</td>\n",
              "      <td>No</td>\n",
              "      <td>No</td>\n",
              "    </tr>\n",
              "    <tr>\n",
              "      <th>2</th>\n",
              "      <td>1.0</td>\n",
              "      <td>Acquisition/Relocation</td>\n",
              "      <td>Manufactured Home</td>\n",
              "      <td>Rental</td>\n",
              "      <td>2846.0</td>\n",
              "      <td>1999</td>\n",
              "      <td>Closed</td>\n",
              "      <td>HMGP</td>\n",
              "      <td>200.1: Acquisition of Private Real Property (S...</td>\n",
              "      <td>5</td>\n",
              "      <td>No</td>\n",
              "      <td>No</td>\n",
              "    </tr>\n",
              "    <tr>\n",
              "      <th>3</th>\n",
              "      <td>1.0</td>\n",
              "      <td>Seismic Retrofit</td>\n",
              "      <td>Other (Specify in Comments)_ST</td>\n",
              "      <td>Other (Specify in Comments)_TR</td>\n",
              "      <td>NaN</td>\n",
              "      <td>2001</td>\n",
              "      <td>Closed</td>\n",
              "      <td>HMGP</td>\n",
              "      <td>205.4: Non Structural Retrofitting/Rehabilitat...</td>\n",
              "      <td>2</td>\n",
              "      <td>No</td>\n",
              "      <td>No</td>\n",
              "    </tr>\n",
              "    <tr>\n",
              "      <th>4</th>\n",
              "      <td>1.0</td>\n",
              "      <td>Safe Room/Wind Shelter</td>\n",
              "      <td>Single Family</td>\n",
              "      <td>Owner Occupied - Principal Residence</td>\n",
              "      <td>NaN</td>\n",
              "      <td>1999</td>\n",
              "      <td>Approved</td>\n",
              "      <td>HMGP</td>\n",
              "      <td>206.1: Safe Room (Tornado and Severe Wind Shel...</td>\n",
              "      <td>42</td>\n",
              "      <td>No</td>\n",
              "      <td>No</td>\n",
              "    </tr>\n",
              "  </tbody>\n",
              "</table>\n",
              "</div>"
            ],
            "text/plain": [
              "   IsAgencyHandling  ... subgranteeTribalIndicator\n",
              "0               1.0  ...                        No\n",
              "1               1.0  ...                        No\n",
              "2               1.0  ...                        No\n",
              "3               1.0  ...                        No\n",
              "4               1.0  ...                        No\n",
              "\n",
              "[5 rows x 12 columns]"
            ]
          },
          "metadata": {
            "tags": []
          },
          "execution_count": 16
        }
      ]
    },
    {
      "cell_type": "code",
      "metadata": {
        "id": "cL00qw4438jL"
      },
      "source": [
        "# Converting to numerical columns\n",
        "df.loc[df['granteeTribalIndicator']=='No','granteeTribalIndicator']=0\n",
        "df.loc[df['granteeTribalIndicator']=='Yes','granteeTribalIndicator']=1\n",
        "df.loc[df['subgranteeTribalIndicator']=='No','subgranteeTribalIndicator']=0\n",
        "df.loc[df['subgranteeTribalIndicator']=='Yes','subgranteeTribalIndicator']=1"
      ],
      "execution_count": null,
      "outputs": []
    },
    {
      "cell_type": "code",
      "metadata": {
        "id": "afr5FqoFaykv"
      },
      "source": [
        "df['actualAmountPaid'].fillna(df['actualAmountPaid'].mean(),inplace=True)"
      ],
      "execution_count": null,
      "outputs": []
    },
    {
      "cell_type": "code",
      "metadata": {
        "colab": {
          "base_uri": "https://localhost:8080/"
        },
        "id": "H0hk8z5Pa9UP",
        "outputId": "a07bc3e7-3e41-46fe-8f8f-6a7b50a0afe0"
      },
      "source": [
        "df.isnull().sum()"
      ],
      "execution_count": null,
      "outputs": [
        {
          "output_type": "execute_result",
          "data": {
            "text/plain": [
              "IsAgencyHandling             0\n",
              "propertyAction               0\n",
              "structureType                0\n",
              "typeOfResidency              0\n",
              "actualAmountPaid             0\n",
              "programFy                    0\n",
              "status                       0\n",
              "programArea                  0\n",
              "type                         0\n",
              "numberOfProperties           0\n",
              "granteeTribalIndicator       0\n",
              "subgranteeTribalIndicator    0\n",
              "dtype: int64"
            ]
          },
          "metadata": {
            "tags": []
          },
          "execution_count": 19
        }
      ]
    },
    {
      "cell_type": "code",
      "metadata": {
        "id": "NrxtAmV-bAtF"
      },
      "source": [
        ""
      ],
      "execution_count": null,
      "outputs": []
    },
    {
      "cell_type": "code",
      "metadata": {
        "colab": {
          "base_uri": "https://localhost:8080/",
          "height": 377
        },
        "id": "E7ZVm8Lq8cTH",
        "outputId": "e1373bff-d2fd-43cc-89f2-3f8b59f862c3"
      },
      "source": [
        "df.head()"
      ],
      "execution_count": null,
      "outputs": [
        {
          "output_type": "execute_result",
          "data": {
            "text/html": [
              "<div>\n",
              "<style scoped>\n",
              "    .dataframe tbody tr th:only-of-type {\n",
              "        vertical-align: middle;\n",
              "    }\n",
              "\n",
              "    .dataframe tbody tr th {\n",
              "        vertical-align: top;\n",
              "    }\n",
              "\n",
              "    .dataframe thead th {\n",
              "        text-align: right;\n",
              "    }\n",
              "</style>\n",
              "<table border=\"1\" class=\"dataframe\">\n",
              "  <thead>\n",
              "    <tr style=\"text-align: right;\">\n",
              "      <th></th>\n",
              "      <th>IsAgencyHandling</th>\n",
              "      <th>propertyAction</th>\n",
              "      <th>structureType</th>\n",
              "      <th>typeOfResidency</th>\n",
              "      <th>actualAmountPaid</th>\n",
              "      <th>programFy</th>\n",
              "      <th>status</th>\n",
              "      <th>programArea</th>\n",
              "      <th>type</th>\n",
              "      <th>numberOfProperties</th>\n",
              "      <th>granteeTribalIndicator</th>\n",
              "      <th>subgranteeTribalIndicator</th>\n",
              "    </tr>\n",
              "  </thead>\n",
              "  <tbody>\n",
              "    <tr>\n",
              "      <th>0</th>\n",
              "      <td>1.0</td>\n",
              "      <td>Safe Room/Wind Shelter</td>\n",
              "      <td>Single Family</td>\n",
              "      <td>Owner Occupied - Principal Residence</td>\n",
              "      <td>1362.000000</td>\n",
              "      <td>1999</td>\n",
              "      <td>Closed</td>\n",
              "      <td>HMGP</td>\n",
              "      <td>206.1: Safe Room (Tornado and Severe Wind Shel...</td>\n",
              "      <td>2</td>\n",
              "      <td>0</td>\n",
              "      <td>0</td>\n",
              "    </tr>\n",
              "    <tr>\n",
              "      <th>1</th>\n",
              "      <td>1.0</td>\n",
              "      <td>Safe Room/Wind Shelter</td>\n",
              "      <td>Single Family</td>\n",
              "      <td>Owner Occupied - Principal Residence</td>\n",
              "      <td>254103.213057</td>\n",
              "      <td>2001</td>\n",
              "      <td>Closed</td>\n",
              "      <td>HMGP</td>\n",
              "      <td>206.1: Safe Room (Tornado and Severe Wind Shel...</td>\n",
              "      <td>1</td>\n",
              "      <td>0</td>\n",
              "      <td>0</td>\n",
              "    </tr>\n",
              "    <tr>\n",
              "      <th>2</th>\n",
              "      <td>1.0</td>\n",
              "      <td>Acquisition/Relocation</td>\n",
              "      <td>Manufactured Home</td>\n",
              "      <td>Rental</td>\n",
              "      <td>2846.000000</td>\n",
              "      <td>1999</td>\n",
              "      <td>Closed</td>\n",
              "      <td>HMGP</td>\n",
              "      <td>200.1: Acquisition of Private Real Property (S...</td>\n",
              "      <td>5</td>\n",
              "      <td>0</td>\n",
              "      <td>0</td>\n",
              "    </tr>\n",
              "    <tr>\n",
              "      <th>3</th>\n",
              "      <td>1.0</td>\n",
              "      <td>Seismic Retrofit</td>\n",
              "      <td>Other (Specify in Comments)_ST</td>\n",
              "      <td>Other (Specify in Comments)_TR</td>\n",
              "      <td>254103.213057</td>\n",
              "      <td>2001</td>\n",
              "      <td>Closed</td>\n",
              "      <td>HMGP</td>\n",
              "      <td>205.4: Non Structural Retrofitting/Rehabilitat...</td>\n",
              "      <td>2</td>\n",
              "      <td>0</td>\n",
              "      <td>0</td>\n",
              "    </tr>\n",
              "    <tr>\n",
              "      <th>4</th>\n",
              "      <td>1.0</td>\n",
              "      <td>Safe Room/Wind Shelter</td>\n",
              "      <td>Single Family</td>\n",
              "      <td>Owner Occupied - Principal Residence</td>\n",
              "      <td>254103.213057</td>\n",
              "      <td>1999</td>\n",
              "      <td>Approved</td>\n",
              "      <td>HMGP</td>\n",
              "      <td>206.1: Safe Room (Tornado and Severe Wind Shel...</td>\n",
              "      <td>42</td>\n",
              "      <td>0</td>\n",
              "      <td>0</td>\n",
              "    </tr>\n",
              "  </tbody>\n",
              "</table>\n",
              "</div>"
            ],
            "text/plain": [
              "   IsAgencyHandling  ... subgranteeTribalIndicator\n",
              "0               1.0  ...                         0\n",
              "1               1.0  ...                         0\n",
              "2               1.0  ...                         0\n",
              "3               1.0  ...                         0\n",
              "4               1.0  ...                         0\n",
              "\n",
              "[5 rows x 12 columns]"
            ]
          },
          "metadata": {
            "tags": []
          },
          "execution_count": 20
        }
      ]
    },
    {
      "cell_type": "markdown",
      "metadata": {
        "id": "r1E8cOoCZZ85"
      },
      "source": [
        "Correlation Matrix"
      ]
    },
    {
      "cell_type": "code",
      "metadata": {
        "colab": {
          "base_uri": "https://localhost:8080/",
          "height": 377
        },
        "id": "6qtGd7gLZDSa",
        "outputId": "acda634f-410f-4875-a948-ef86452b25d4"
      },
      "source": [
        "# Checking the correlation in Numerical columns\n",
        "sns.heatmap(df.corr(),annot=True)"
      ],
      "execution_count": null,
      "outputs": [
        {
          "output_type": "execute_result",
          "data": {
            "text/plain": [
              "<matplotlib.axes._subplots.AxesSubplot at 0x7ffaf7914cd0>"
            ]
          },
          "metadata": {
            "tags": []
          },
          "execution_count": 25
        },
        {
          "output_type": "display_data",
          "data": {
            "image/png": "[encoded data removed]",
            "text/plain": [
              "<Figure size 432x288 with 2 Axes>"
            ]
          },
          "metadata": {
            "tags": [],
            "needs_background": "light"
          }
        }
      ]
    },
    {
      "cell_type": "code",
      "metadata": {
        "id": "XnpWv-1g68PD"
      },
      "source": [
        "#converting categorical columns to one hot encoding\n",
        "df1=pd.get_dummies(df,columns=['propertyAction','structureType','typeOfResidency','status','type'])"
      ],
      "execution_count": null,
      "outputs": []
    },
    {
      "cell_type": "code",
      "metadata": {
        "colab": {
          "base_uri": "https://localhost:8080/"
        },
        "id": "nBTIQu1x85Qp",
        "outputId": "118cea72-0052-4781-8048-d141bf9cfced"
      },
      "source": [
        "df1.shape"
      ],
      "execution_count": null,
      "outputs": [
        {
          "output_type": "execute_result",
          "data": {
            "text/plain": [
              "(61835, 386)"
            ]
          },
          "metadata": {
            "tags": []
          },
          "execution_count": 22
        }
      ]
    },
    {
      "cell_type": "code",
      "metadata": {
        "colab": {
          "base_uri": "https://localhost:8080/",
          "height": 411
        },
        "id": "5LW153YU9oEx",
        "outputId": "526ba4cf-ab51-44be-d596-905f5626effd"
      },
      "source": [
        "df1.head()"
      ],
      "execution_count": null,
      "outputs": [
        {
          "output_type": "execute_result",
          "data": {
            "text/html": [
              "<div>\n",
              "<style scoped>\n",
              "    .dataframe tbody tr th:only-of-type {\n",
              "        vertical-align: middle;\n",
              "    }\n",
              "\n",
              "    .dataframe tbody tr th {\n",
              "        vertical-align: top;\n",
              "    }\n",
              "\n",
              "    .dataframe thead th {\n",
              "        text-align: right;\n",
              "    }\n",
              "</style>\n",
              "<table border=\"1\" class=\"dataframe\">\n",
              "  <thead>\n",
              "    <tr style=\"text-align: right;\">\n",
              "      <th></th>\n",
              "      <th>IsAgencyHandling</th>\n",
              "      <th>actualAmountPaid</th>\n",
              "      <th>programFy</th>\n",
              "      <th>programArea</th>\n",
              "      <th>type</th>\n",
              "      <th>numberOfProperties</th>\n",
              "      <th>granteeTribalIndicator</th>\n",
              "      <th>subgranteeTribalIndicator</th>\n",
              "      <th>propertyAction_Acquisition of Vacant Land</th>\n",
              "      <th>propertyAction_Acquisition/Demolition</th>\n",
              "      <th>propertyAction_Acquisition/Relocation</th>\n",
              "      <th>propertyAction_Elevation</th>\n",
              "      <th>propertyAction_Floodproofed</th>\n",
              "      <th>propertyAction_Mitigation Reconstruction</th>\n",
              "      <th>propertyAction_Other (Specify in Comments)_PA</th>\n",
              "      <th>propertyAction_Retro (1/15/2008 - DSG)</th>\n",
              "      <th>propertyAction_Safe Room/Wind Shelter</th>\n",
              "      <th>propertyAction_Seismic Retrofit</th>\n",
              "      <th>propertyAction_Wildfire Retrofit</th>\n",
              "      <th>propertyAction_Wind Retrofit</th>\n",
              "      <th>propertyAction_Wind Retrofit Advanced(A-P804)</th>\n",
              "      <th>propertyAction_Wind Retrofit Basic (B-P804)</th>\n",
              "      <th>propertyAction_Wind Retrofit Estimated(ES-P804)</th>\n",
              "      <th>structureType_2-4 Family</th>\n",
              "      <th>structureType_Manufactured Home</th>\n",
              "      <th>structureType_Multi-Family Dwelling - 5 or More Units</th>\n",
              "      <th>structureType_Non-residential - Private</th>\n",
              "      <th>structureType_Non-residential - Public</th>\n",
              "      <th>structureType_Other (Specify in Comments)_ST</th>\n",
              "      <th>structureType_Single Family</th>\n",
              "      <th>structureType_Vacant Land</th>\n",
              "      <th>typeOfResidency_Not Applicable</th>\n",
              "      <th>typeOfResidency_Other</th>\n",
              "      <th>typeOfResidency_Other (Specify in Comments)_TR</th>\n",
              "      <th>typeOfResidency_Owner Occupied - Principal Residence</th>\n",
              "      <th>typeOfResidency_Owner Occupied - Secondary Residence</th>\n",
              "      <th>typeOfResidency_Owner Occupied- Secondary Residence</th>\n",
              "      <th>typeOfResidency_Owner Occupied-Principal Residence</th>\n",
              "      <th>typeOfResidency_Primary</th>\n",
              "      <th>typeOfResidency_Rental</th>\n",
              "      <th>typeOfResidency_Secondary</th>\n",
              "      <th>status_Approved</th>\n",
              "      <th>status_Awarded</th>\n",
              "      <th>status_Closed</th>\n",
              "      <th>status_Completed</th>\n",
              "      <th>status_Obligated</th>\n",
              "    </tr>\n",
              "  </thead>\n",
              "  <tbody>\n",
              "    <tr>\n",
              "      <th>0</th>\n",
              "      <td>1.0</td>\n",
              "      <td>1362.0</td>\n",
              "      <td>1999</td>\n",
              "      <td>HMGP</td>\n",
              "      <td>206.1: Safe Room (Tornado and Severe Wind Shel...</td>\n",
              "      <td>2</td>\n",
              "      <td>0</td>\n",
              "      <td>0</td>\n",
              "      <td>0</td>\n",
              "      <td>0</td>\n",
              "      <td>0</td>\n",
              "      <td>0</td>\n",
              "      <td>0</td>\n",
              "      <td>0</td>\n",
              "      <td>0</td>\n",
              "      <td>0</td>\n",
              "      <td>1</td>\n",
              "      <td>0</td>\n",
              "      <td>0</td>\n",
              "      <td>0</td>\n",
              "      <td>0</td>\n",
              "      <td>0</td>\n",
              "      <td>0</td>\n",
              "      <td>0</td>\n",
              "      <td>0</td>\n",
              "      <td>0</td>\n",
              "      <td>0</td>\n",
              "      <td>0</td>\n",
              "      <td>0</td>\n",
              "      <td>1</td>\n",
              "      <td>0</td>\n",
              "      <td>0</td>\n",
              "      <td>0</td>\n",
              "      <td>0</td>\n",
              "      <td>1</td>\n",
              "      <td>0</td>\n",
              "      <td>0</td>\n",
              "      <td>0</td>\n",
              "      <td>0</td>\n",
              "      <td>0</td>\n",
              "      <td>0</td>\n",
              "      <td>0</td>\n",
              "      <td>0</td>\n",
              "      <td>1</td>\n",
              "      <td>0</td>\n",
              "      <td>0</td>\n",
              "    </tr>\n",
              "    <tr>\n",
              "      <th>1</th>\n",
              "      <td>1.0</td>\n",
              "      <td>NaN</td>\n",
              "      <td>2001</td>\n",
              "      <td>HMGP</td>\n",
              "      <td>206.1: Safe Room (Tornado and Severe Wind Shel...</td>\n",
              "      <td>1</td>\n",
              "      <td>0</td>\n",
              "      <td>0</td>\n",
              "      <td>0</td>\n",
              "      <td>0</td>\n",
              "      <td>0</td>\n",
              "      <td>0</td>\n",
              "      <td>0</td>\n",
              "      <td>0</td>\n",
              "      <td>0</td>\n",
              "      <td>0</td>\n",
              "      <td>1</td>\n",
              "      <td>0</td>\n",
              "      <td>0</td>\n",
              "      <td>0</td>\n",
              "      <td>0</td>\n",
              "      <td>0</td>\n",
              "      <td>0</td>\n",
              "      <td>0</td>\n",
              "      <td>0</td>\n",
              "      <td>0</td>\n",
              "      <td>0</td>\n",
              "      <td>0</td>\n",
              "      <td>0</td>\n",
              "      <td>1</td>\n",
              "      <td>0</td>\n",
              "      <td>0</td>\n",
              "      <td>0</td>\n",
              "      <td>0</td>\n",
              "      <td>1</td>\n",
              "      <td>0</td>\n",
              "      <td>0</td>\n",
              "      <td>0</td>\n",
              "      <td>0</td>\n",
              "      <td>0</td>\n",
              "      <td>0</td>\n",
              "      <td>0</td>\n",
              "      <td>0</td>\n",
              "      <td>1</td>\n",
              "      <td>0</td>\n",
              "      <td>0</td>\n",
              "    </tr>\n",
              "    <tr>\n",
              "      <th>2</th>\n",
              "      <td>1.0</td>\n",
              "      <td>2846.0</td>\n",
              "      <td>1999</td>\n",
              "      <td>HMGP</td>\n",
              "      <td>200.1: Acquisition of Private Real Property (S...</td>\n",
              "      <td>5</td>\n",
              "      <td>0</td>\n",
              "      <td>0</td>\n",
              "      <td>0</td>\n",
              "      <td>0</td>\n",
              "      <td>1</td>\n",
              "      <td>0</td>\n",
              "      <td>0</td>\n",
              "      <td>0</td>\n",
              "      <td>0</td>\n",
              "      <td>0</td>\n",
              "      <td>0</td>\n",
              "      <td>0</td>\n",
              "      <td>0</td>\n",
              "      <td>0</td>\n",
              "      <td>0</td>\n",
              "      <td>0</td>\n",
              "      <td>0</td>\n",
              "      <td>0</td>\n",
              "      <td>1</td>\n",
              "      <td>0</td>\n",
              "      <td>0</td>\n",
              "      <td>0</td>\n",
              "      <td>0</td>\n",
              "      <td>0</td>\n",
              "      <td>0</td>\n",
              "      <td>0</td>\n",
              "      <td>0</td>\n",
              "      <td>0</td>\n",
              "      <td>0</td>\n",
              "      <td>0</td>\n",
              "      <td>0</td>\n",
              "      <td>0</td>\n",
              "      <td>0</td>\n",
              "      <td>1</td>\n",
              "      <td>0</td>\n",
              "      <td>0</td>\n",
              "      <td>0</td>\n",
              "      <td>1</td>\n",
              "      <td>0</td>\n",
              "      <td>0</td>\n",
              "    </tr>\n",
              "    <tr>\n",
              "      <th>3</th>\n",
              "      <td>1.0</td>\n",
              "      <td>NaN</td>\n",
              "      <td>2001</td>\n",
              "      <td>HMGP</td>\n",
              "      <td>205.4: Non Structural Retrofitting/Rehabilitat...</td>\n",
              "      <td>2</td>\n",
              "      <td>0</td>\n",
              "      <td>0</td>\n",
              "      <td>0</td>\n",
              "      <td>0</td>\n",
              "      <td>0</td>\n",
              "      <td>0</td>\n",
              "      <td>0</td>\n",
              "      <td>0</td>\n",
              "      <td>0</td>\n",
              "      <td>0</td>\n",
              "      <td>0</td>\n",
              "      <td>1</td>\n",
              "      <td>0</td>\n",
              "      <td>0</td>\n",
              "      <td>0</td>\n",
              "      <td>0</td>\n",
              "      <td>0</td>\n",
              "      <td>0</td>\n",
              "      <td>0</td>\n",
              "      <td>0</td>\n",
              "      <td>0</td>\n",
              "      <td>0</td>\n",
              "      <td>1</td>\n",
              "      <td>0</td>\n",
              "      <td>0</td>\n",
              "      <td>0</td>\n",
              "      <td>0</td>\n",
              "      <td>1</td>\n",
              "      <td>0</td>\n",
              "      <td>0</td>\n",
              "      <td>0</td>\n",
              "      <td>0</td>\n",
              "      <td>0</td>\n",
              "      <td>0</td>\n",
              "      <td>0</td>\n",
              "      <td>0</td>\n",
              "      <td>0</td>\n",
              "      <td>1</td>\n",
              "      <td>0</td>\n",
              "      <td>0</td>\n",
              "    </tr>\n",
              "    <tr>\n",
              "      <th>4</th>\n",
              "      <td>1.0</td>\n",
              "      <td>NaN</td>\n",
              "      <td>1999</td>\n",
              "      <td>HMGP</td>\n",
              "      <td>206.1: Safe Room (Tornado and Severe Wind Shel...</td>\n",
              "      <td>42</td>\n",
              "      <td>0</td>\n",
              "      <td>0</td>\n",
              "      <td>0</td>\n",
              "      <td>0</td>\n",
              "      <td>0</td>\n",
              "      <td>0</td>\n",
              "      <td>0</td>\n",
              "      <td>0</td>\n",
              "      <td>0</td>\n",
              "      <td>0</td>\n",
              "      <td>1</td>\n",
              "      <td>0</td>\n",
              "      <td>0</td>\n",
              "      <td>0</td>\n",
              "      <td>0</td>\n",
              "      <td>0</td>\n",
              "      <td>0</td>\n",
              "      <td>0</td>\n",
              "      <td>0</td>\n",
              "      <td>0</td>\n",
              "      <td>0</td>\n",
              "      <td>0</td>\n",
              "      <td>0</td>\n",
              "      <td>1</td>\n",
              "      <td>0</td>\n",
              "      <td>0</td>\n",
              "      <td>0</td>\n",
              "      <td>0</td>\n",
              "      <td>1</td>\n",
              "      <td>0</td>\n",
              "      <td>0</td>\n",
              "      <td>0</td>\n",
              "      <td>0</td>\n",
              "      <td>0</td>\n",
              "      <td>0</td>\n",
              "      <td>1</td>\n",
              "      <td>0</td>\n",
              "      <td>0</td>\n",
              "      <td>0</td>\n",
              "      <td>0</td>\n",
              "    </tr>\n",
              "  </tbody>\n",
              "</table>\n",
              "</div>"
            ],
            "text/plain": [
              "   IsAgencyHandling  actualAmountPaid  ...  status_Completed status_Obligated\n",
              "0               1.0            1362.0  ...                 0                0\n",
              "1               1.0               NaN  ...                 0                0\n",
              "2               1.0            2846.0  ...                 0                0\n",
              "3               1.0               NaN  ...                 0                0\n",
              "4               1.0               NaN  ...                 0                0\n",
              "\n",
              "[5 rows x 46 columns]"
            ]
          },
          "metadata": {
            "tags": []
          },
          "execution_count": 14
        }
      ]
    },
    {
      "cell_type": "code",
      "metadata": {
        "id": "iPVRBn7--BdI"
      },
      "source": [
        "#Splitting Dataset into train (80%) and test (20%)\n",
        "Y=df1['programArea']\n",
        "df1.drop(columns=['programArea'],inplace=True)\n",
        "X=df1"
      ],
      "execution_count": null,
      "outputs": []
    },
    {
      "cell_type": "code",
      "metadata": {
        "id": "iKNOyMZ095ky"
      },
      "source": [
        "from sklearn.model_selection import train_test_split\n",
        "x_train, x_test, y_train, y_test = train_test_split(X, Y, test_size=0.20, random_state=0,stratify=Y)"
      ],
      "execution_count": null,
      "outputs": []
    },
    {
      "cell_type": "code",
      "metadata": {
        "colab": {
          "base_uri": "https://localhost:8080/"
        },
        "id": "2dUa53CPduMT",
        "outputId": "f5eb8506-8ef3-42fd-9cb8-0d48531615bd"
      },
      "source": [
        "Y.value_counts()"
      ],
      "execution_count": null,
      "outputs": [
        {
          "output_type": "execute_result",
          "data": {
            "text/plain": [
              "HMGP    57000\n",
              "FMA      2547\n",
              "PDM      1382\n",
              "SRL       623\n",
              "LPDM      189\n",
              "RFC        94\n",
              "Name: programArea, dtype: int64"
            ]
          },
          "metadata": {
            "tags": []
          },
          "execution_count": 25
        }
      ]
    },
    {
      "cell_type": "code",
      "metadata": {
        "id": "JHLSdtRq6ccM"
      },
      "source": [
        "#checking Categorical variables association.\n",
        "'''\n",
        "Hypothesis: Features are dependent to each other and have relationship with target variable.\n",
        "Alternative: Features are independent to each other and have no relationship with target variable.\n",
        "Result: As we got very less values for 55,117 among the 73920 combinations of features in all our hypothesis test. As by the above around 75% of combinations our hypothesis has been failed and alternative has been accepted. The remaining 25% is because of the one hot encoding effect which can be ignored. So we can say that almost all our features are independent to each other and have no relationship with target variable. So we can conclude that there is no collinearity\n",
        "'''\n",
        "import itertools\n",
        "sd=list(itertools.combinations(list(x_train.columns), 2))\n",
        " from scipy.stats import chi2_contingency\n",
        " alt=[]\n",
        " for ele in sd: \n",
        "  csq=chi2_contingency(pd.crosstab(x_train[ele[0]], x_train[ele[1]]))\n",
        "  if csq[1] > 0.05:\n",
        "    alt.append(ele)\n",
        "print(len(sd))\n",
        "print(len(alt))"
      ],
      "execution_count": null,
      "outputs": []
    },
    {
      "cell_type": "code",
      "metadata": {
        "id": "gGDnz2Q--GuB"
      },
      "source": [
        "#Building Baseline model with logistic regression\n",
        "from sklearn.linear_model import LogisticRegression\n",
        "logisticRegr = LogisticRegression()"
      ],
      "execution_count": null,
      "outputs": []
    },
    {
      "cell_type": "code",
      "metadata": {
        "colab": {
          "base_uri": "https://localhost:8080/"
        },
        "id": "pF-a9Csn-Spx",
        "outputId": "7ab34f64-5f77-486f-ed90-bf552370443b"
      },
      "source": [
        "logisticRegr.fit(x_train,y_train)"
      ],
      "execution_count": null,
      "outputs": [
        {
          "output_type": "stream",
          "text": [
            "/usr/local/lib/python3.7/dist-packages/sklearn/linear_model/_logistic.py:940: ConvergenceWarning: lbfgs failed to converge (status=1):\n",
            "STOP: TOTAL NO. of ITERATIONS REACHED LIMIT.\n",
            "\n",
            "Increase the number of iterations (max_iter) or scale the data as shown in:\n",
            "    https://scikit-learn.org/stable/modules/preprocessing.html\n",
            "Please also refer to the documentation for alternative solver options:\n",
            "    https://scikit-learn.org/stable/modules/linear_model.html#logistic-regression\n",
            "  extra_warning_msg=_LOGISTIC_SOLVER_CONVERGENCE_MSG)\n"
          ],
          "name": "stderr"
        },
        {
          "output_type": "execute_result",
          "data": {
            "text/plain": [
              "LogisticRegression(C=1.0, class_weight=None, dual=False, fit_intercept=True,\n",
              "                   intercept_scaling=1, l1_ratio=None, max_iter=100,\n",
              "                   multi_class='auto', n_jobs=None, penalty='l2',\n",
              "                   random_state=None, solver='lbfgs', tol=0.0001, verbose=0,\n",
              "                   warm_start=False)"
            ]
          },
          "metadata": {
            "tags": []
          },
          "execution_count": 27
        }
      ]
    },
    {
      "cell_type": "code",
      "metadata": {
        "id": "ThfyZR70Os3p"
      },
      "source": [
        "y_pred = logisticRegr.predict(x_test) "
      ],
      "execution_count": null,
      "outputs": []
    },
    {
      "cell_type": "code",
      "metadata": {
        "id": "9SUg6t2vQJkv"
      },
      "source": [
        "from sklearn.metrics import accuracy_score "
      ],
      "execution_count": null,
      "outputs": []
    },
    {
      "cell_type": "code",
      "metadata": {
        "colab": {
          "base_uri": "https://localhost:8080/"
        },
        "id": "tQk7-zTZPZsE",
        "outputId": "cf5fa339-6b32-4eff-ec92-0297d22646f7"
      },
      "source": [
        "accuracy_score(y_test,y_pred)"
      ],
      "execution_count": null,
      "outputs": [
        {
          "output_type": "execute_result",
          "data": {
            "text/plain": [
              "0.9218080375192044"
            ]
          },
          "metadata": {
            "tags": []
          },
          "execution_count": 31
        }
      ]
    },
    {
      "cell_type": "code",
      "metadata": {
        "colab": {
          "base_uri": "https://localhost:8080/"
        },
        "id": "dpA4qwNCQzLP",
        "outputId": "abde6140-41a3-4331-fec8-6999ba09f95e"
      },
      "source": [
        "y_val.unique()"
      ],
      "execution_count": null,
      "outputs": [
        {
          "output_type": "execute_result",
          "data": {
            "text/plain": [
              "array(['HMGP', 'PDM', 'FMA', 'SRL', 'LPDM', 'RFC'], dtype=object)"
            ]
          },
          "metadata": {
            "tags": []
          },
          "execution_count": 77
        }
      ]
    },
    {
      "cell_type": "code",
      "metadata": {
        "colab": {
          "base_uri": "https://localhost:8080/"
        },
        "id": "2K4t69T7QlyG",
        "outputId": "648aa8ee-c408-4970-9e0c-d6f499e82fcb"
      },
      "source": [
        "from sklearn.metrics import classification_report\n",
        "print(classification_report(y_test, y_pred, target_names=logisticRegr.classes_))"
      ],
      "execution_count": null,
      "outputs": [
        {
          "output_type": "stream",
          "text": [
            "/usr/local/lib/python3.7/dist-packages/sklearn/metrics/_classification.py:1272: UndefinedMetricWarning: Precision and F-score are ill-defined and being set to 0.0 in labels with no predicted samples. Use `zero_division` parameter to control this behavior.\n",
            "  _warn_prf(average, modifier, msg_start, len(result))\n"
          ],
          "name": "stderr"
        },
        {
          "output_type": "stream",
          "text": [
            "              precision    recall  f1-score   support\n",
            "\n",
            "         FMA       0.00      0.00      0.00       509\n",
            "        HMGP       0.92      1.00      0.96     11400\n",
            "        LPDM       0.00      0.00      0.00        38\n",
            "         PDM       0.00      0.00      0.00       276\n",
            "         RFC       0.00      0.00      0.00        19\n",
            "         SRL       0.00      0.00      0.00       125\n",
            "\n",
            "    accuracy                           0.92     12367\n",
            "   macro avg       0.15      0.17      0.16     12367\n",
            "weighted avg       0.85      0.92      0.88     12367\n",
            "\n"
          ],
          "name": "stdout"
        }
      ]
    },
    {
      "cell_type": "code",
      "metadata": {
        "colab": {
          "base_uri": "https://localhost:8080/"
        },
        "id": "VKIQD2giMZH-",
        "outputId": "d665a054-768e-47ce-ab5c-c1a60dcf1785"
      },
      "source": [
        "from sklearn.metrics import confusion_matrix\n",
        "confusion_matrix = confusion_matrix(y_val, y_pred,labels=logisticRegr.classes_)\n",
        "\n",
        "print(confusion_matrix)"
      ],
      "execution_count": null,
      "outputs": [
        {
          "output_type": "stream",
          "text": [
            "[[4558    0    0    0    0    0]\n",
            " [ 208    0    0    0    0    0]\n",
            " [ 113    0    0    0    0    0]\n",
            " [  54    0    0    0    0    0]\n",
            " [   6    0    0    0    0    0]\n",
            " [   8    0    0    0    0    0]]\n"
          ],
          "name": "stdout"
        }
      ]
    },
    {
      "cell_type": "code",
      "metadata": {
        "id": "FiYpXw8ERbbr"
      },
      "source": [
        "#Building random forest baseline model and checking cross validion accuracy\n",
        "from sklearn.ensemble import RandomForestClassifier \n",
        "clf = RandomForestClassifier(n_estimators = 100)   "
      ],
      "execution_count": null,
      "outputs": []
    },
    {
      "cell_type": "code",
      "metadata": {
        "colab": {
          "base_uri": "https://localhost:8080/"
        },
        "id": "_XlN4U0kRkcB",
        "outputId": "f2482f8f-ae7b-4f2b-ffb0-2331412506fe"
      },
      "source": [
        "clf.fit(x_train,y_train)"
      ],
      "execution_count": null,
      "outputs": [
        {
          "output_type": "execute_result",
          "data": {
            "text/plain": [
              "RandomForestClassifier(bootstrap=True, ccp_alpha=0.0, class_weight=None,\n",
              "                       criterion='gini', max_depth=None, max_features='auto',\n",
              "                       max_leaf_nodes=None, max_samples=None,\n",
              "                       min_impurity_decrease=0.0, min_impurity_split=None,\n",
              "                       min_samples_leaf=1, min_samples_split=2,\n",
              "                       min_weight_fraction_leaf=0.0, n_estimators=100,\n",
              "                       n_jobs=None, oob_score=False, random_state=None,\n",
              "                       verbose=0, warm_start=False)"
            ]
          },
          "metadata": {
            "tags": []
          },
          "execution_count": 30
        }
      ]
    },
    {
      "cell_type": "code",
      "metadata": {
        "id": "RtSFLoTqsDwe"
      },
      "source": [
        "def rf_feat_importance(m, df):\n",
        "    return pd.DataFrame({'cols':df.columns, 'imp':m.feature_importances_}\n",
        "                       ).sort_values('imp', ascending=False)\n",
        "fi = rf_feat_importance(clf, x_train);"
      ],
      "execution_count": null,
      "outputs": []
    },
    {
      "cell_type": "code",
      "metadata": {
        "colab": {
          "base_uri": "https://localhost:8080/",
          "height": 403
        },
        "id": "kSCKMAfSsKJI",
        "outputId": "6f86d9cb-c28a-4352-ebd8-8ee41d60646f"
      },
      "source": [
        "#Understaning Feature Importance\n",
        "def plot_fi(fi): return fi.plot('cols', 'imp', 'barh', figsize=(12,7), legend=False)\n",
        "plot_fi(fi[:30]);"
      ],
      "execution_count": null,
      "outputs": [
        {
          "output_type": "display_data",
          "data": {
            "image/png": "[encoded data removed]",
            "text/plain": [
              "<Figure size 864x504 with 1 Axes>"
            ]
          },
          "metadata": {
            "tags": [],
            "needs_background": "light"
          }
        }
      ]
    },
    {
      "cell_type": "code",
      "metadata": {
        "colab": {
          "base_uri": "https://localhost:8080/"
        },
        "id": "G48vjvzC9rmX",
        "outputId": "71377730-f8a7-49e9-ea6e-b95ad8901c8e"
      },
      "source": [
        "from sklearn.model_selection import cross_val_score\n",
        "\n",
        "scores = cross_val_score(clf, x_train, y_train, cv=3)\n",
        "print('Cross-Validation Accuracy Scores', scores)"
      ],
      "execution_count": null,
      "outputs": [
        {
          "output_type": "stream",
          "text": [
            "Cross-Validation Accuracy Scores [0.98629472 0.98495967 0.98641519]\n"
          ],
          "name": "stdout"
        }
      ]
    },
    {
      "cell_type": "code",
      "metadata": {
        "colab": {
          "base_uri": "https://localhost:8080/"
        },
        "id": "JeTUrCIl9zjZ",
        "outputId": "01d448f4-437d-43ab-da09-bb38b87d7ebc"
      },
      "source": [
        "#Average accuracy for the baseline RF trained model is 98.5% so Random Forest is an ideal or suitable part next phase we perform optimization(Hypertuning technique to obtain a ideal model )\n",
        "scores.mean()"
      ],
      "execution_count": null,
      "outputs": [
        {
          "output_type": "execute_result",
          "data": {
            "text/plain": [
              "0.98588986001326"
            ]
          },
          "metadata": {
            "tags": []
          },
          "execution_count": 40
        }
      ]
    },
    {
      "cell_type": "code",
      "metadata": {
        "id": "jTeRR2bn-XUP"
      },
      "source": [
        "#Hypertuning with Random Forest\n",
        "from sklearn.model_selection import GridSearchCV\n",
        "# Create the parameter grid based on the results of random search \n",
        "param_grid = {\n",
        "   \n",
        "    'max_features': ['auto', 'sqrt', 'log2'],\n",
        "    'n_estimators': n_estimators\n",
        "}\n",
        "# Create a based model\n",
        "rf = RandomForestClassifier(class_weight='balanced')\n",
        "# Instantiate the grid search model\n",
        "grid_search1 = GridSearchCV(estimator = rf, param_grid = param_grid, \n",
        "                          cv = 3, n_jobs = -1,scoring='accuracy', verbose = 2)"
      ],
      "execution_count": null,
      "outputs": []
    },
    {
      "cell_type": "code",
      "metadata": {
        "colab": {
          "base_uri": "https://localhost:8080/"
        },
        "id": "QZpX3XlyKisY",
        "outputId": "8fd08fe1-408f-4f40-9557-869ea1881fe7"
      },
      "source": [
        "grid_search1.fit(x_train,y_train)"
      ],
      "execution_count": null,
      "outputs": [
        {
          "output_type": "stream",
          "text": [
            "Fitting 3 folds for each of 12 candidates, totalling 36 fits\n"
          ],
          "name": "stdout"
        },
        {
          "output_type": "stream",
          "text": [
            "[Parallel(n_jobs=-1)]: Using backend LokyBackend with 2 concurrent workers.\n",
            "[Parallel(n_jobs=-1)]: Done  36 out of  36 | elapsed:  6.0min finished\n"
          ],
          "name": "stderr"
        },
        {
          "output_type": "execute_result",
          "data": {
            "text/plain": [
              "GridSearchCV(cv=3, error_score=nan,\n",
              "             estimator=RandomForestClassifier(bootstrap=True, ccp_alpha=0.0,\n",
              "                                              class_weight='balanced',\n",
              "                                              criterion='gini', max_depth=None,\n",
              "                                              max_features='auto',\n",
              "                                              max_leaf_nodes=None,\n",
              "                                              max_samples=None,\n",
              "                                              min_impurity_decrease=0.0,\n",
              "                                              min_impurity_split=None,\n",
              "                                              min_samples_leaf=1,\n",
              "                                              min_samples_split=2,\n",
              "                                              min_weight_fraction_leaf=0.0,\n",
              "                                              n_estimators=100, n_jobs=None,\n",
              "                                              oob_score=False,\n",
              "                                              random_state=None, verbose=0,\n",
              "                                              warm_start=False),\n",
              "             iid='deprecated', n_jobs=-1,\n",
              "             param_grid={'max_features': ['auto', 'sqrt', 'log2'],\n",
              "                         'n_estimators': [100, 200, 300, 400]},\n",
              "             pre_dispatch='2*n_jobs', refit=True, return_train_score=False,\n",
              "             scoring='accuracy', verbose=2)"
            ]
          },
          "metadata": {
            "tags": []
          },
          "execution_count": 108
        }
      ]
    },
    {
      "cell_type": "code",
      "metadata": {
        "colab": {
          "base_uri": "https://localhost:8080/"
        },
        "id": "xT83uAXTHGdr",
        "outputId": "334e25c0-19ce-44f5-e700-a9f8dbd230df"
      },
      "source": [
        "grid_search1.best_params_"
      ],
      "execution_count": null,
      "outputs": [
        {
          "output_type": "execute_result",
          "data": {
            "text/plain": [
              "{'max_features': 'auto', 'n_estimators': 100}"
            ]
          },
          "metadata": {
            "tags": []
          },
          "execution_count": 111
        }
      ]
    },
    {
      "cell_type": "code",
      "metadata": {
        "colab": {
          "base_uri": "https://localhost:8080/"
        },
        "id": "89_9In_EFRzi",
        "outputId": "ebec0702-87b6-4f18-ecb0-016467e9a8fb"
      },
      "source": [
        "grid_search1.cv_results_"
      ],
      "execution_count": null,
      "outputs": [
        {
          "output_type": "execute_result",
          "data": {
            "text/plain": [
              "{'mean_fit_time': array([ 8.50628742, 15.10636981, 23.18934846, 37.03230468,  8.48228343,\n",
              "        15.49071995, 21.94420242, 36.32464004,  7.79790227, 14.25148352,\n",
              "        21.16587345, 31.11792906]),\n",
              " 'mean_score_time': array([0.95483311, 1.40121071, 1.93858266, 2.97986603, 0.96471024,\n",
              "        1.34316365, 1.81919273, 2.97095641, 1.07825557, 1.77562412,\n",
              "        2.43521047, 3.37098304]),\n",
              " 'mean_test_score': array([0.98532386, 0.985526  , 0.98552599, 0.98526321, 0.98544514,\n",
              "        0.98542493, 0.98548557, 0.98532385, 0.98500041, 0.98506105,\n",
              "        0.98516213, 0.9851217 ]),\n",
              " 'param_max_features': masked_array(data=['auto', 'auto', 'auto', 'auto', 'sqrt', 'sqrt', 'sqrt',\n",
              "                    'sqrt', 'log2', 'log2', 'log2', 'log2'],\n",
              "              mask=[False, False, False, False, False, False, False, False,\n",
              "                    False, False, False, False],\n",
              "        fill_value='?',\n",
              "             dtype=object),\n",
              " 'param_n_estimators': masked_array(data=[100, 200, 300, 500, 100, 200, 300, 500, 100, 200, 300,\n",
              "                    500],\n",
              "              mask=[False, False, False, False, False, False, False, False,\n",
              "                    False, False, False, False],\n",
              "        fill_value='?',\n",
              "             dtype=object),\n",
              " 'params': [{'max_features': 'auto', 'n_estimators': 100},\n",
              "  {'max_features': 'auto', 'n_estimators': 200},\n",
              "  {'max_features': 'auto', 'n_estimators': 300},\n",
              "  {'max_features': 'auto', 'n_estimators': 500},\n",
              "  {'max_features': 'sqrt', 'n_estimators': 100},\n",
              "  {'max_features': 'sqrt', 'n_estimators': 200},\n",
              "  {'max_features': 'sqrt', 'n_estimators': 300},\n",
              "  {'max_features': 'sqrt', 'n_estimators': 500},\n",
              "  {'max_features': 'log2', 'n_estimators': 100},\n",
              "  {'max_features': 'log2', 'n_estimators': 200},\n",
              "  {'max_features': 'log2', 'n_estimators': 300},\n",
              "  {'max_features': 'log2', 'n_estimators': 500}],\n",
              " 'rank_test_score': array([ 6,  1,  2,  8,  4,  5,  3,  7, 12, 11,  9, 10], dtype=int32),\n",
              " 'split0_test_score': array([0.9848393 , 0.98532444, 0.98580958, 0.98489994, 0.98532444,\n",
              "        0.98502122, 0.9852638 , 0.9852638 , 0.98477865, 0.98514251,\n",
              "        0.98489994, 0.98508187]),\n",
              " 'split1_test_score': array([0.98441385, 0.98459579, 0.98423191, 0.98453514, 0.98465644,\n",
              "        0.98465644, 0.98459579, 0.98423191, 0.98435321, 0.98404997,\n",
              "        0.98417127, 0.98380739]),\n",
              " 'split2_test_score': array([0.98671842, 0.98665777, 0.98653648, 0.98635454, 0.98635454,\n",
              "        0.98659713, 0.98659713, 0.98647583, 0.98586937, 0.98599066,\n",
              "        0.98641519, 0.98647583]),\n",
              " 'std_fit_time': array([0.15193433, 0.47464846, 0.25406521, 1.45728187, 0.33949444,\n",
              "        0.2515718 , 0.67766344, 1.14397212, 0.06257853, 0.39743524,\n",
              "        0.4816214 , 4.27931544]),\n",
              " 'std_score_time': array([0.02118709, 0.05163765, 0.03691411, 0.20282165, 0.02871902,\n",
              "        0.06955134, 0.05001772, 0.12892542, 0.01066045, 0.12702413,\n",
              "        0.12634918, 0.9071281 ]),\n",
              " 'std_test_score': array([0.00100128, 0.00085378, 0.00096197, 0.00078593, 0.00069848,\n",
              "        0.00084214, 0.00083195, 0.00091706, 0.00063852, 0.00079437,\n",
              "        0.00093465, 0.00108975])}"
            ]
          },
          "metadata": {
            "tags": []
          },
          "execution_count": 68
        }
      ]
    },
    {
      "cell_type": "code",
      "metadata": {
        "colab": {
          "base_uri": "https://localhost:8080/"
        },
        "id": "DkixPAPwG09a",
        "outputId": "2633185c-4c8e-48cc-fd4a-956eeb4577d3"
      },
      "source": [
        "y_pred1 = grid_search1.predict(x_test)\n",
        "print(\"ACCURACY OF THE MODEL: \", accuracy_score(y_test, y_pred1)) "
      ],
      "execution_count": null,
      "outputs": [
        {
          "output_type": "stream",
          "text": [
            "ACCURACY OF THE MODEL:  0.9857685776663702\n"
          ],
          "name": "stdout"
        }
      ]
    },
    {
      "cell_type": "code",
      "metadata": {
        "colab": {
          "base_uri": "https://localhost:8080/"
        },
        "id": "lbIQcmoqjnAB",
        "outputId": "a16e4774-831f-480c-d07f-09c10cc078bc"
      },
      "source": [
        "grid_search1.classes_"
      ],
      "execution_count": null,
      "outputs": [
        {
          "output_type": "execute_result",
          "data": {
            "text/plain": [
              "array(['FMA', 'HMGP', 'LPDM', 'PDM', 'RFC', 'SRL'], dtype=object)"
            ]
          },
          "metadata": {
            "tags": []
          },
          "execution_count": 112
        }
      ]
    },
    {
      "cell_type": "code",
      "metadata": {
        "colab": {
          "base_uri": "https://localhost:8080/",
          "height": 235
        },
        "id": "AdjMZ3FJHHfw",
        "outputId": "4afd91ac-251c-476d-92c4-034b54b4d520"
      },
      "source": [
        "from sklearn.metrics import confusion_matrix\n",
        "confusion_matrix = confusion_matrix(y_test, y_pred1,labels=grid_search1.classes_)\n",
        "#print(confusion_matrix)\n",
        "pd.DataFrame(confusion_matrix,index=grid_search1.classes_,columns=grid_search1.classes_)"
      ],
      "execution_count": null,
      "outputs": [
        {
          "output_type": "execute_result",
          "data": {
            "text/html": [
              "<div>\n",
              "<style scoped>\n",
              "    .dataframe tbody tr th:only-of-type {\n",
              "        vertical-align: middle;\n",
              "    }\n",
              "\n",
              "    .dataframe tbody tr th {\n",
              "        vertical-align: top;\n",
              "    }\n",
              "\n",
              "    .dataframe thead th {\n",
              "        text-align: right;\n",
              "    }\n",
              "</style>\n",
              "<table border=\"1\" class=\"dataframe\">\n",
              "  <thead>\n",
              "    <tr style=\"text-align: right;\">\n",
              "      <th></th>\n",
              "      <th>FMA</th>\n",
              "      <th>HMGP</th>\n",
              "      <th>LPDM</th>\n",
              "      <th>PDM</th>\n",
              "      <th>RFC</th>\n",
              "      <th>SRL</th>\n",
              "    </tr>\n",
              "  </thead>\n",
              "  <tbody>\n",
              "    <tr>\n",
              "      <th>FMA</th>\n",
              "      <td>436</td>\n",
              "      <td>0</td>\n",
              "      <td>4</td>\n",
              "      <td>40</td>\n",
              "      <td>3</td>\n",
              "      <td>26</td>\n",
              "    </tr>\n",
              "    <tr>\n",
              "      <th>HMGP</th>\n",
              "      <td>0</td>\n",
              "      <td>11400</td>\n",
              "      <td>0</td>\n",
              "      <td>0</td>\n",
              "      <td>0</td>\n",
              "      <td>0</td>\n",
              "    </tr>\n",
              "    <tr>\n",
              "      <th>LPDM</th>\n",
              "      <td>2</td>\n",
              "      <td>0</td>\n",
              "      <td>22</td>\n",
              "      <td>8</td>\n",
              "      <td>3</td>\n",
              "      <td>3</td>\n",
              "    </tr>\n",
              "    <tr>\n",
              "      <th>PDM</th>\n",
              "      <td>35</td>\n",
              "      <td>1</td>\n",
              "      <td>4</td>\n",
              "      <td>223</td>\n",
              "      <td>4</td>\n",
              "      <td>9</td>\n",
              "    </tr>\n",
              "    <tr>\n",
              "      <th>RFC</th>\n",
              "      <td>4</td>\n",
              "      <td>0</td>\n",
              "      <td>0</td>\n",
              "      <td>0</td>\n",
              "      <td>10</td>\n",
              "      <td>5</td>\n",
              "    </tr>\n",
              "    <tr>\n",
              "      <th>SRL</th>\n",
              "      <td>9</td>\n",
              "      <td>0</td>\n",
              "      <td>4</td>\n",
              "      <td>2</td>\n",
              "      <td>10</td>\n",
              "      <td>100</td>\n",
              "    </tr>\n",
              "  </tbody>\n",
              "</table>\n",
              "</div>"
            ],
            "text/plain": [
              "      FMA   HMGP  LPDM  PDM  RFC  SRL\n",
              "FMA   436      0     4   40    3   26\n",
              "HMGP    0  11400     0    0    0    0\n",
              "LPDM    2      0    22    8    3    3\n",
              "PDM    35      1     4  223    4    9\n",
              "RFC     4      0     0    0   10    5\n",
              "SRL     9      0     4    2   10  100"
            ]
          },
          "metadata": {
            "tags": []
          },
          "execution_count": 113
        }
      ]
    },
    {
      "cell_type": "code",
      "metadata": {
        "colab": {
          "base_uri": "https://localhost:8080/"
        },
        "id": "6UbIVw8zj48d",
        "outputId": "a086ac37-d811-4e97-b013-84cbb5294088"
      },
      "source": [
        "from sklearn.metrics import classification_report\n",
        "print(classification_report(y_test, y_pred1, target_names=grid_search1.classes_))"
      ],
      "execution_count": null,
      "outputs": [
        {
          "output_type": "stream",
          "text": [
            "              precision    recall  f1-score   support\n",
            "\n",
            "         FMA       0.90      0.86      0.88       509\n",
            "        HMGP       1.00      1.00      1.00     11400\n",
            "        LPDM       0.65      0.58      0.61        38\n",
            "         PDM       0.82      0.81      0.81       276\n",
            "         RFC       0.33      0.53      0.41        19\n",
            "         SRL       0.70      0.80      0.75       125\n",
            "\n",
            "    accuracy                           0.99     12367\n",
            "   macro avg       0.73      0.76      0.74     12367\n",
            "weighted avg       0.99      0.99      0.99     12367\n",
            "\n"
          ],
          "name": "stdout"
        }
      ]
    },
    {
      "cell_type": "code",
      "metadata": {
        "colab": {
          "base_uri": "https://localhost:8080/",
          "height": 307
        },
        "id": "pMTJtnMlNSSi",
        "outputId": "3c965966-4643-481a-edcd-2e800461517b"
      },
      "source": [
        "#plotting Hypertuning results and code has been taken from the medium article.\n",
        "def plot_grid_search(cv_results, grid_param_1, grid_param_2, name_param_1, name_param_2):\n",
        "    scores_mean = cv_results['mean_test_score']\n",
        "    scores_mean = np.array(scores_mean).reshape(len(grid_param_2),len(grid_param_1))\n",
        "    scores_sd = cv_results['std_test_score']\n",
        "    scores_sd = np.array(scores_sd).reshape(len(grid_param_2),len(grid_param_1))\n",
        "    # Plot Grid search scores\n",
        "    _, ax = plt.subplots(1,1)\n",
        "    # Param1 is the X-axis, Param 2 is represented as a different curve (color line)\n",
        "    for idx, val in enumerate(grid_param_2):\n",
        "        ax.plot(grid_param_1, scores_mean[idx,:], '-o', label= name_param_2 + ': ' + str(val))\n",
        "    ax.set_title(\"Grid Search Scores\", fontsize=20, fontweight='bold')\n",
        "    ax.set_xlabel(name_param_1, fontsize=16)\n",
        "    ax.set_ylabel('CV Average Score', fontsize=16)\n",
        "    ax.legend(loc='upper right', fontsize=10)\n",
        "    ax.grid('on')\n",
        "plot_grid_search(grid_search1.cv_results_, [100, 200, 300, 500], ['auto', 'sqrt', 'log2'], 'N_Estimators', 'Max_Features')"
      ],
      "execution_count": null,
      "outputs": [
        {
          "output_type": "display_data",
          "data": {
            "image/png": "[encoded data removed]",
            "text/plain": [
              "<Figure size 432x288 with 1 Axes>"
            ]
          },
          "metadata": {
            "tags": [],
            "needs_background": "light"
          }
        }
      ]
    }
  ]
}